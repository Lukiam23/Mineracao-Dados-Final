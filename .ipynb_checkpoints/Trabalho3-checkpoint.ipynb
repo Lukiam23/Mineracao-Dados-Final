{
 "cells": [
  {
   "cell_type": "code",
   "execution_count": 2,
   "id": "9885f9a8",
   "metadata": {},
   "outputs": [],
   "source": [
    "import pandas as pd\n",
    "import numpy as np\n",
    "import matplotlib.pyplot as plt\n",
    "import math\n",
    "from plotnine import *\n",
    "from wordcloud import STOPWORDS,WordCloud\n",
    "from sklearn.linear_model import LinearRegression\n",
    "from sklearn.linear_model import SGDRegressor\n",
    "from sklearn.pipeline import make_pipeline\n",
    "from sklearn.preprocessing import StandardScaler"
   ]
  },
  {
   "cell_type": "code",
   "execution_count": 13,
   "id": "7cbe3ca4",
   "metadata": {},
   "outputs": [],
   "source": [
    "from sklearn.metrics import r2_score"
   ]
  },
  {
   "cell_type": "code",
   "execution_count": 26,
   "id": "cbbed676",
   "metadata": {},
   "outputs": [],
   "source": [
    "df_tweets = pd.read_csv('./dataset.csv')"
   ]
  },
  {
   "cell_type": "code",
   "execution_count": 27,
   "id": "dd322524",
   "metadata": {},
   "outputs": [
    {
     "data": {
      "text/html": [
       "<div>\n",
       "<style scoped>\n",
       "    .dataframe tbody tr th:only-of-type {\n",
       "        vertical-align: middle;\n",
       "    }\n",
       "\n",
       "    .dataframe tbody tr th {\n",
       "        vertical-align: top;\n",
       "    }\n",
       "\n",
       "    .dataframe thead th {\n",
       "        text-align: right;\n",
       "    }\n",
       "</style>\n",
       "<table border=\"1\" class=\"dataframe\">\n",
       "  <thead>\n",
       "    <tr style=\"text-align: right;\">\n",
       "      <th></th>\n",
       "      <th>Username</th>\n",
       "      <th>Handle</th>\n",
       "      <th>Timestamp</th>\n",
       "      <th>Text</th>\n",
       "      <th>Replys</th>\n",
       "      <th>Retweets</th>\n",
       "      <th>Likes</th>\n",
       "    </tr>\n",
       "  </thead>\n",
       "  <tbody>\n",
       "    <tr>\n",
       "      <th>0</th>\n",
       "      <td>Thabata Campos Belli com 3 doses no braço</td>\n",
       "      <td>@ThabataBelli</td>\n",
       "      <td>2021-12-04T06:20:16.000Z</td>\n",
       "      <td>Não, imagina, jamais seria #MamataFrias,não é ...</td>\n",
       "      <td>0.0</td>\n",
       "      <td>0.0</td>\n",
       "      <td>0.0</td>\n",
       "    </tr>\n",
       "    <tr>\n",
       "      <th>1</th>\n",
       "      <td>Tonni D. Sanctus</td>\n",
       "      <td>@BadgerWolverine</td>\n",
       "      <td>2021-11-28T03:47:26.000Z</td>\n",
       "      <td>Não existe mulher feia, o que existe são mulhe...</td>\n",
       "      <td>0.0</td>\n",
       "      <td>0.0</td>\n",
       "      <td>1.0</td>\n",
       "    </tr>\n",
       "    <tr>\n",
       "      <th>2</th>\n",
       "      <td>Emanuele Kent</td>\n",
       "      <td>@emanuelekent</td>\n",
       "      <td>2021-11-22T01:46:14.000Z</td>\n",
       "      <td>A revolta do SIKERA essa semana sobre a lei #R...</td>\n",
       "      <td>0.0</td>\n",
       "      <td>0.0</td>\n",
       "      <td>3.0</td>\n",
       "    </tr>\n",
       "    <tr>\n",
       "      <th>3</th>\n",
       "      <td>Pleno.News</td>\n",
       "      <td>@PlenoNews</td>\n",
       "      <td>2021-11-13T12:39:39.000Z</td>\n",
       "      <td>Portaria do governo que proíbe linguagem neutr...</td>\n",
       "      <td>3.0</td>\n",
       "      <td>9.0</td>\n",
       "      <td>23.0</td>\n",
       "    </tr>\n",
       "    <tr>\n",
       "      <th>4</th>\n",
       "      <td>Pleno.News</td>\n",
       "      <td>@PlenoNews</td>\n",
       "      <td>2021-11-10T15:01:20.000Z</td>\n",
       "      <td>Daniela Lima zomba de medida de Mario Frias pa...</td>\n",
       "      <td>3.0</td>\n",
       "      <td>4.0</td>\n",
       "      <td>13.0</td>\n",
       "    </tr>\n",
       "    <tr>\n",
       "      <th>...</th>\n",
       "      <td>...</td>\n",
       "      <td>...</td>\n",
       "      <td>...</td>\n",
       "      <td>...</td>\n",
       "      <td>...</td>\n",
       "      <td>...</td>\n",
       "      <td>...</td>\n",
       "    </tr>\n",
       "    <tr>\n",
       "      <th>1582</th>\n",
       "      <td>Secretaria Especial da Cultura</td>\n",
       "      <td>@CulturaGovBr</td>\n",
       "      <td>2009-04-02T23:56:27.000Z</td>\n",
       "      <td>Agora, no debate da Folha, vem Sarkovas, o úni...</td>\n",
       "      <td>0.0</td>\n",
       "      <td>0.0</td>\n",
       "      <td>0.0</td>\n",
       "    </tr>\n",
       "    <tr>\n",
       "      <th>1583</th>\n",
       "      <td>Erika Campana “OTO PA-TA-MAR”</td>\n",
       "      <td>@lilicacampana</td>\n",
       "      <td>2009-04-02T23:55:02.000Z</td>\n",
       "      <td>RT \\n@CulturaGovBr\\n #rouanet entra no próximo...</td>\n",
       "      <td>0.0</td>\n",
       "      <td>0.0</td>\n",
       "      <td>0.0</td>\n",
       "    </tr>\n",
       "    <tr>\n",
       "      <th>1584</th>\n",
       "      <td>Secretaria Especial da Cultura</td>\n",
       "      <td>@CulturaGovBr</td>\n",
       "      <td>2009-04-02T23:54:09.000Z</td>\n",
       "      <td>#rouanet entra no próximo bloco do Jornal Naci...</td>\n",
       "      <td>0.0</td>\n",
       "      <td>0.0</td>\n",
       "      <td>0.0</td>\n",
       "    </tr>\n",
       "    <tr>\n",
       "      <th>1585</th>\n",
       "      <td>Secretaria Especial da Cultura</td>\n",
       "      <td>@CulturaGovBr</td>\n",
       "      <td>2009-04-02T23:51:06.000Z</td>\n",
       "      <td>Pélico diz que não viu nenhuma novidade na nov...</td>\n",
       "      <td>0.0</td>\n",
       "      <td>0.0</td>\n",
       "      <td>0.0</td>\n",
       "    </tr>\n",
       "    <tr>\n",
       "      <th>1586</th>\n",
       "      <td>Secretaria Especial da Cultura</td>\n",
       "      <td>@CulturaGovBr</td>\n",
       "      <td>2009-04-02T23:49:17.000Z</td>\n",
       "      <td>Pélico diz que MinC não pode satanizar a #roua...</td>\n",
       "      <td>0.0</td>\n",
       "      <td>0.0</td>\n",
       "      <td>0.0</td>\n",
       "    </tr>\n",
       "  </tbody>\n",
       "</table>\n",
       "<p>1587 rows × 7 columns</p>\n",
       "</div>"
      ],
      "text/plain": [
       "                                       Username            Handle  \\\n",
       "0     Thabata Campos Belli com 3 doses no braço     @ThabataBelli   \n",
       "1                              Tonni D. Sanctus  @BadgerWolverine   \n",
       "2                                 Emanuele Kent     @emanuelekent   \n",
       "3                                    Pleno.News        @PlenoNews   \n",
       "4                                    Pleno.News        @PlenoNews   \n",
       "...                                         ...               ...   \n",
       "1582             Secretaria Especial da Cultura     @CulturaGovBr   \n",
       "1583              Erika Campana “OTO PA-TA-MAR”    @lilicacampana   \n",
       "1584             Secretaria Especial da Cultura     @CulturaGovBr   \n",
       "1585             Secretaria Especial da Cultura     @CulturaGovBr   \n",
       "1586             Secretaria Especial da Cultura     @CulturaGovBr   \n",
       "\n",
       "                     Timestamp  \\\n",
       "0     2021-12-04T06:20:16.000Z   \n",
       "1     2021-11-28T03:47:26.000Z   \n",
       "2     2021-11-22T01:46:14.000Z   \n",
       "3     2021-11-13T12:39:39.000Z   \n",
       "4     2021-11-10T15:01:20.000Z   \n",
       "...                        ...   \n",
       "1582  2009-04-02T23:56:27.000Z   \n",
       "1583  2009-04-02T23:55:02.000Z   \n",
       "1584  2009-04-02T23:54:09.000Z   \n",
       "1585  2009-04-02T23:51:06.000Z   \n",
       "1586  2009-04-02T23:49:17.000Z   \n",
       "\n",
       "                                                   Text  Replys  Retweets  \\\n",
       "0     Não, imagina, jamais seria #MamataFrias,não é ...     0.0       0.0   \n",
       "1     Não existe mulher feia, o que existe são mulhe...     0.0       0.0   \n",
       "2     A revolta do SIKERA essa semana sobre a lei #R...     0.0       0.0   \n",
       "3     Portaria do governo que proíbe linguagem neutr...     3.0       9.0   \n",
       "4     Daniela Lima zomba de medida de Mario Frias pa...     3.0       4.0   \n",
       "...                                                 ...     ...       ...   \n",
       "1582  Agora, no debate da Folha, vem Sarkovas, o úni...     0.0       0.0   \n",
       "1583  RT \\n@CulturaGovBr\\n #rouanet entra no próximo...     0.0       0.0   \n",
       "1584  #rouanet entra no próximo bloco do Jornal Naci...     0.0       0.0   \n",
       "1585  Pélico diz que não viu nenhuma novidade na nov...     0.0       0.0   \n",
       "1586  Pélico diz que MinC não pode satanizar a #roua...     0.0       0.0   \n",
       "\n",
       "      Likes  \n",
       "0       0.0  \n",
       "1       1.0  \n",
       "2       3.0  \n",
       "3      23.0  \n",
       "4      13.0  \n",
       "...     ...  \n",
       "1582    0.0  \n",
       "1583    0.0  \n",
       "1584    0.0  \n",
       "1585    0.0  \n",
       "1586    0.0  \n",
       "\n",
       "[1587 rows x 7 columns]"
      ]
     },
     "execution_count": 27,
     "metadata": {},
     "output_type": "execute_result"
    }
   ],
   "source": [
    "df_tweets = df_tweets.fillna(0)\n",
    "#df_tweets = df_tweets.loc[(df_tweets['Retweets']>20) | (df_tweets['Replys']>10) | (df_tweets['Likes']>3) ]\n",
    "df_tweets"
   ]
  },
  {
   "cell_type": "code",
   "execution_count": 5,
   "id": "c06f68b0",
   "metadata": {},
   "outputs": [],
   "source": [
    "import statistics"
   ]
  },
  {
   "cell_type": "code",
   "execution_count": 28,
   "id": "4d1b8e44",
   "metadata": {},
   "outputs": [],
   "source": [
    "ids = dict()\n",
    "semrepeticoes = pd.DataFrame()\n",
    "for i in range(len(df_tweets.index)):\n",
    "    try:\n",
    "        ids[df_tweets.iloc[i, 5]].append(df_tweets.iloc[i, 6])\n",
    "    except:\n",
    "        ids[df_tweets.iloc[i, 5]] = []\n",
    "        ids[df_tweets.iloc[i, 5]].append(df_tweets.iloc[i, 6])\n"
   ]
  },
  {
   "cell_type": "code",
   "execution_count": 29,
   "id": "0398fcaa",
   "metadata": {},
   "outputs": [],
   "source": [
    "semrepeticoes = pd.DataFrame()\n",
    "for i in ids:\n",
    "    temp = pd.DataFrame({'Replys': [i],\n",
    "                        'Retweets': [statistics.mean(ids[i])]\n",
    "                         })\n",
    "    semrepeticoes = semrepeticoes.append(temp)\n",
    "\n",
    "    "
   ]
  },
  {
   "cell_type": "code",
   "execution_count": 30,
   "id": "51cdc2f7",
   "metadata": {},
   "outputs": [],
   "source": [
    "x = semrepeticoes[['Retweets']]\n",
    "y = semrepeticoes['Replys']\n"
   ]
  },
  {
   "cell_type": "code",
   "execution_count": 35,
   "id": "a5c0d82f",
   "metadata": {},
   "outputs": [
    {
     "data": {
      "text/plain": [
       "array([[ 0.21640091],\n",
       "       [11.5       ],\n",
       "       [ 5.8       ],\n",
       "       [ 4.44      ],\n",
       "       [ 1.08391608],\n",
       "       [ 2.7173913 ],\n",
       "       [48.        ],\n",
       "       [ 3.25      ],\n",
       "       [95.33333333],\n",
       "       [ 4.36363636],\n",
       "       [ 4.75      ],\n",
       "       [17.        ],\n",
       "       [ 9.33333333],\n",
       "       [ 7.75      ],\n",
       "       [68.        ],\n",
       "       [ 3.5       ],\n",
       "       [19.        ],\n",
       "       [ 5.75      ],\n",
       "       [45.        ],\n",
       "       [ 3.        ],\n",
       "       [ 0.        ]])"
      ]
     },
     "execution_count": 35,
     "metadata": {},
     "output_type": "execute_result"
    }
   ],
   "source": [
    "x.values"
   ]
  },
  {
   "cell_type": "code",
   "execution_count": 31,
   "id": "63b20449",
   "metadata": {},
   "outputs": [],
   "source": [
    "modelskl = LinearRegression()"
   ]
  },
  {
   "cell_type": "code",
   "execution_count": 36,
   "id": "7ee736b4",
   "metadata": {},
   "outputs": [
    {
     "data": {
      "text/plain": [
       "LinearRegression()"
      ]
     },
     "execution_count": 36,
     "metadata": {},
     "output_type": "execute_result"
    }
   ],
   "source": [
    "modelskl.fit(x.values,y)"
   ]
  },
  {
   "cell_type": "code",
   "execution_count": 37,
   "id": "4af6db98",
   "metadata": {},
   "outputs": [
    {
     "data": {
      "image/png": "[encoded data removed]",
      "text/plain": [
       "<Figure size 640x480 with 1 Axes>"
      ]
     },
     "metadata": {},
     "output_type": "display_data"
    },
    {
     "data": {
      "text/plain": [
       "<ggplot: (136158153969)>"
      ]
     },
     "execution_count": 37,
     "metadata": {},
     "output_type": "execute_result"
    }
   ],
   "source": [
    "(ggplot(semrepeticoes,aes('Retweets','Replys'))\n",
    "+ geom_point()\n",
    "+ theme_light()\n",
    "+ geom_abline(intercept=modelskl.intercept_ , slope=modelskl.coef_[0], color='red')\n",
    ")"
   ]
  },
  {
   "cell_type": "code",
   "execution_count": 38,
   "id": "6124585a",
   "metadata": {},
   "outputs": [
    {
     "data": {
      "text/plain": [
       "array([18.813071])"
      ]
     },
     "execution_count": 38,
     "metadata": {},
     "output_type": "execute_result"
    }
   ],
   "source": [
    "#modelskl.predict([[25]])\n",
    "\n",
    "for i in x.values:\n",
    "    print(x)"
   ]
  }
 ],
 "metadata": {
  "kernelspec": {
   "display_name": "Python 3 (ipykernel)",
   "language": "python",
   "name": "python3"
  },
  "language_info": {
   "codemirror_mode": {
    "name": "ipython",
    "version": 3
   },
   "file_extension": ".py",
   "mimetype": "text/x-python",
   "name": "python",
   "nbconvert_exporter": "python",
   "pygments_lexer": "ipython3",
   "version": "3.8.12"
  }
 },
 "nbformat": 4,
 "nbformat_minor": 5
}
